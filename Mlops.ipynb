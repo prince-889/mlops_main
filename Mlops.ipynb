{
 "cells": [
  {
   "cell_type": "code",
   "execution_count": 1,
   "metadata": {},
   "outputs": [
    {
     "data": {
      "text/plain": [
       "5"
      ]
     },
     "execution_count": 1,
     "metadata": {},
     "output_type": "execute_result"
    }
   ],
   "source": [
    "2+3"
   ]
  },
  {
   "cell_type": "code",
   "execution_count": 2,
   "metadata": {},
   "outputs": [
    {
     "name": "stdout",
     "output_type": "stream",
     "text": [
      "\n",
      " #### all files added to dvc ####\n"
     ]
    }
   ],
   "source": [
    "import os\n",
    "from glob import glob\n",
    "\n",
    "\n",
    "data_dirs = [\"Training_Batch_Files\",\"Prediction_Batch_files\"]\n",
    "\n",
    "for data_dir in data_dirs:\n",
    "    files = glob(data_dir + r\"/*.csv\")\n",
    "    for filePath in files:\n",
    "        # print(f\"dvc add {filePath}\")\n",
    "        os.system(f\"dvc add {filePath}\")\n",
    "\n",
    "print(\"\\n #### all files added to dvc ####\")"
   ]
  },
  {
   "cell_type": "code",
   "execution_count": 3,
   "metadata": {},
   "outputs": [
    {
     "name": "stdout",
     "output_type": "stream",
     "text": [
      " Volume in drive P is TIME\n",
      " Volume Serial Number is 9CB8-DBF8\n",
      "\n",
      " Directory of p:\\Github_Repo\\wafer_mlops\\mlops_main\n",
      "\n",
      "06-07-2024  17:01    <DIR>          .\n",
      "06-07-2024  16:51    <DIR>          ..\n",
      "06-07-2024  16:51               471 .env\n",
      "06-07-2024  16:51             3,428 .gitignore\n",
      "06-07-2024  16:51    <DIR>          data\n",
      "06-07-2024  16:51    <DIR>          docs\n",
      "06-07-2024  16:51             1,089 LICENSE\n",
      "06-07-2024  16:51             2,513 Makefile\n",
      "06-07-2024  17:48             1,549 Mlops.ipynb\n",
      "06-07-2024  16:51    <DIR>          mlops_main\n",
      "06-07-2024  16:51    <DIR>          models\n",
      "06-07-2024  16:51    <DIR>          notebooks\n",
      "06-07-2024  16:56    <DIR>          Prediction_Batch_files\n",
      "06-07-2024  16:51               618 pyproject.toml\n",
      "06-07-2024  16:51             2,770 README.md\n",
      "06-07-2024  16:51    <DIR>          references\n",
      "06-07-2024  16:51    <DIR>          reports\n",
      "06-07-2024  16:51               149 requirements.txt\n",
      "06-07-2024  16:51               116 setup.cfg\n",
      "06-07-2024  16:56    <DIR>          Training_Batch_Files\n",
      "               9 File(s)         12,703 bytes\n",
      "              11 Dir(s)  285,940,076,544 bytes free\n"
     ]
    }
   ],
   "source": [
    "ls"
   ]
  },
  {
   "cell_type": "code",
   "execution_count": null,
   "metadata": {},
   "outputs": [],
   "source": []
  }
 ],
 "metadata": {
  "kernelspec": {
   "display_name": "wafer3",
   "language": "python",
   "name": "python3"
  },
  "language_info": {
   "codemirror_mode": {
    "name": "ipython",
    "version": 3
   },
   "file_extension": ".py",
   "mimetype": "text/x-python",
   "name": "python",
   "nbconvert_exporter": "python",
   "pygments_lexer": "ipython3",
   "version": "3.12.4"
  }
 },
 "nbformat": 4,
 "nbformat_minor": 2
}
